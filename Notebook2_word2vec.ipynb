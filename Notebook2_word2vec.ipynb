{
 "cells": [
  {
   "cell_type": "code",
   "execution_count": 28,
   "id": "a2f387a5",
   "metadata": {},
   "outputs": [],
   "source": [
    "import gensim\n",
    "from gensim.models import KeyedVectors\n",
    "from sklearn.metrics.pairwise import cosine_similarity\n",
    "from gensim.models import Word2Vec\n",
    "\n",
    "from ast import literal_eval\n",
    "import pandas as pd\n",
    "import numpy as np\n",
    "\n",
    "from sklearn.manifold import TSNE\n",
    "import matplotlib.pyplot as plt\n",
    "%matplotlib inline"
   ]
  },
  {
   "cell_type": "code",
   "execution_count": 15,
   "id": "583976a8",
   "metadata": {},
   "outputs": [],
   "source": [
    "# Get the interactive Tools for Matplotlib\n",
    "%matplotlib notebook\n",
    "import matplotlib.pyplot as plt\n",
    "plt.style.use('ggplot')\n",
    "\n",
    "from sklearn.decomposition import PCA"
   ]
  },
  {
   "cell_type": "markdown",
   "id": "8a12e206",
   "metadata": {},
   "source": [
    "# Word2vec\n",
    "In any NLP task with neural networks involved, we need a numerical representation of our input (which are mainly words). A naive solution would be to use a huge one-hot vector with the same size as our vocabulary, each element representing one word. But this sparse representation is a poor usage of a huge multidimentional space as it does not contain any usefull information about the meaning and semantics of a word. This is where word embedding comes in handy."
   ]
  },
  {
   "cell_type": "markdown",
   "id": "97189ebf",
   "metadata": {},
   "source": [
    "## 1. What is a word embedding?\n",
    "Embeddings are another way of representing vocabulary in a lower dimentional (compared to one-hot representation) continuous space. The goal is to have similar vectors for the words with similar meanings (so the elements of the vector actually carry some information about the meaning of the words). The question is, how are we going to achieve such representations? The idea is simple but elegant: The words appearing in the same context are likely to have similar meanings.\n",
    "\n",
    "So how can we use this idea to learn word vectors?\n",
    "\n",
    "## 2. How to train?\n",
    "We are going to train a simple neural network with a single hidden layer to perform a certain task, but then we’re not actually going to use that neural network for the task we trained it on! Instead, the goal is actually just to learn the weights of the hidden layer and use this hidden layer as our word representation vector.\n",
    "\n",
    "So lets talk about this \"fake\" task. We’re going to train the neural network to do the following: given a specific word (the input word), the network is going to tell us the probability for every word in our vocabulary of being near to this given word (be one of its context words). So the network is going to look somthing like this (considering that our vocabulary size is 10000):\n",
    "\n",
    "<img src=\"skip_gram_net_arch.png\">\n",
    "\n",
    "By training the network on this task, the words which appear in similar contexts are forced to have similar values in the hidden layer since they are going to give similar outputs, so we can use this hidden layer values as our word representation."
   ]
  },
  {
   "cell_type": "markdown",
   "id": "f6e2e1ee",
   "metadata": {},
   "source": [
    "## 3. Softmax\n",
    "\n",
    "Softmax is a very handy tool when it comes to probability distribution prediction problems, but it has its downsides when the number of the nodes grows too large. Let's look at softmax activation in our output layer:\n",
    "\n",
    "<img src=\"softmax.PNG\">\n",
    "\n",
    "As you can see, every single output is dependent on the other outputs, so in order to compute the derivative with respect to any weight, all the other weights play a role! For a 10000 output size this results in milions of mathematical operations for a single weight update, which is not practical at all! This is why the original authors of the paper implemented \"Negative sampling\". By selecting only a fragment of the weights to be updated, they were able to get a huge speed gain.\n",
    "\n",
    "## 4. Word2vec in Gensim\n",
    "\n",
    "There is a vergy good library called gensim for using word2vec in python. You can train your own word vectors on your own corpora or use available pretrained models. Let's train a word2vec model on the Stackoverflow data set and see what comes out."
   ]
  },
  {
   "cell_type": "code",
   "execution_count": 2,
   "id": "eaff4f6d",
   "metadata": {},
   "outputs": [],
   "source": [
    "def read_data(filename):\n",
    "    data = pd.read_csv(filename, sep='\\t')\n",
    "    data['tags'] = data['tags'].apply(literal_eval)\n",
    "    return data"
   ]
  },
  {
   "cell_type": "code",
   "execution_count": 3,
   "id": "9175ed54",
   "metadata": {},
   "outputs": [],
   "source": [
    "train = read_data('data/train.tsv')\n",
    "validation = read_data('data/validation.tsv')\n",
    "test = pd.read_csv('data/test.tsv', sep='\\t')"
   ]
  },
  {
   "cell_type": "code",
   "execution_count": 4,
   "id": "d8dcd874",
   "metadata": {},
   "outputs": [],
   "source": [
    "training_strings = train['title'].tolist() + validation['title'].tolist() + test['title'].tolist()"
   ]
  },
  {
   "cell_type": "code",
   "execution_count": 5,
   "id": "2a22d13f",
   "metadata": {},
   "outputs": [
    {
     "data": {
      "text/plain": [
       "150000"
      ]
     },
     "execution_count": 5,
     "metadata": {},
     "output_type": "execute_result"
    }
   ],
   "source": [
    "len(training_strings)"
   ]
  },
  {
   "cell_type": "code",
   "execution_count": 6,
   "id": "97482c65",
   "metadata": {},
   "outputs": [
    {
     "name": "stderr",
     "output_type": "stream",
     "text": [
      "[nltk_data] Downloading package stopwords to\n",
      "[nltk_data]     /home/jupyter/nltk_data...\n",
      "[nltk_data]   Package stopwords is already up-to-date!\n"
     ]
    }
   ],
   "source": [
    "import re\n",
    "import nltk\n",
    "nltk.download('stopwords')\n",
    "from nltk.corpus import stopwords\n",
    "\n",
    "REPLACE_BY_SPACE_RE = re.compile('[/(){}\\[\\]\\|@,;]')\n",
    "BAD_SYMBOLS_RE = re.compile('[^0-9a-z #+_]')\n",
    "STOPWORDS = set(stopwords.words('english'))\n",
    "\n",
    "def text_prepare(text):\n",
    "    \"\"\"\n",
    "        text: a string\n",
    "        \n",
    "        return: modified initial string\n",
    "    \"\"\"\n",
    "    text = text.lower()# lowercase text\n",
    "    text = re.sub(REPLACE_BY_SPACE_RE,' ',text)# replace REPLACE_BY_SPACE_RE symbols by space in text\n",
    "    text = re.sub(BAD_SYMBOLS_RE,'',text)# delete symbols which are in BAD_SYMBOLS_RE from text\n",
    "    text = list(filter(lambda x: x not in STOPWORDS,  text.split()))# delete stopwords from text\n",
    "    return text"
   ]
  },
  {
   "cell_type": "code",
   "execution_count": 7,
   "id": "d65b4ac3",
   "metadata": {},
   "outputs": [],
   "source": [
    "from gensim import utils\n",
    "\n",
    "class MyCorpus:\n",
    "    \"\"\"An iterator that yields sentences (lists of str).\"\"\"\n",
    "\n",
    "    def __iter__(self):\n",
    "        for line in training_strings:\n",
    "            line = text_prepare(line)\n",
    "            # assume there's one document per line, tokens separated by whitespace. Don't forget to use your preprocessing function from the last notebook\n",
    "            yield line"
   ]
  },
  {
   "cell_type": "code",
   "execution_count": 8,
   "id": "d50bc19e",
   "metadata": {},
   "outputs": [],
   "source": [
    "sentences = MyCorpus()"
   ]
  },
  {
   "cell_type": "markdown",
   "id": "688f7ee6",
   "metadata": {},
   "source": [
    "The window parameter determines the size of the window (surrounding words in either direction) that the embeddings are learned on. If the window size is small we tend to capture more synonyms (e.g. window=3). If we make it larger, we tend to capture more semantically related domains words (e.g. window=7). \n",
    "\n",
    "By changing the different vector_size parameters we can adjust the dimensionality of our embeddings and capture more finegrained similarities.\n",
    "\n",
    "Play around with the different settings to see this in action. You can check the nearest words in the vector space for a given words with the 'model.wv.most_similar(<word>)' function.\n",
    "    \n",
    "Since our dataset is not very large, less frequent words will have less good embeddings than the most frequent."
   ]
  },
  {
   "cell_type": "code",
   "execution_count": 9,
   "id": "b3844544",
   "metadata": {},
   "outputs": [],
   "source": [
    "model = Word2Vec(sentences=sentences, vector_size=300, window=2, min_count=3, workers=4)\n",
    "#model.save(\"word2vec.model\")"
   ]
  },
  {
   "cell_type": "code",
   "execution_count": 10,
   "id": "103220fd",
   "metadata": {},
   "outputs": [],
   "source": [
    "## Take random word from keyed vectors to see if tokenisation worked well\n",
    "#import random\n",
    "#random.choice(model.wv.index_to_key)"
   ]
  },
  {
   "cell_type": "code",
   "execution_count": 47,
   "id": "b6071e58",
   "metadata": {},
   "outputs": [
    {
     "name": "stdout",
     "output_type": "stream",
     "text": [
      "Most similar words to: python \n",
      " [('r', 0.649116575717926), ('pythons', 0.6010829210281372), ('java', 0.5737391114234924), ('numpy', 0.5535851120948792), ('ruby', 0.547137975692749), ('4d', 0.5386043190956116), ('c', 0.5193857550621033), ('scipy', 0.5170186161994934), ('bash', 0.5102644562721252), ('rscript', 0.5091903209686279)] \n",
      "\n",
      "\n",
      "Most similar words to: java \n",
      " [('c#', 0.6929925084114075), ('vbnet', 0.5779470801353455), ('python', 0.5737391114234924), ('c', 0.5429466962814331), ('writing', 0.527299165725708), ('c++', 0.522455096244812), ('listcontains', 0.5204864144325256), ('4d', 0.5177037119865417), ('messy', 0.5111239552497864), ('receives', 0.5105389356613159)] \n",
      "\n",
      "\n",
      "Most similar words to: javascript \n",
      " [('js', 0.7135972380638123), ('jqueryget', 0.6935321092605591), ('jquery', 0.6753265857696533), ('ajax', 0.6574794054031372), ('onclick', 0.6528342366218567), ('tags', 0.6347712874412537), ('ready', 0.6227518320083618), ('php', 0.6185012459754944), ('jstl', 0.6140502691268921), ('jquerys', 0.611627459526062)] \n",
      "\n",
      "\n",
      "Most similar words to: c \n",
      " [('c++', 0.7438018321990967), ('pointers', 0.6658585071563721), ('boost', 0.6583142876625061), ('buffer', 0.652622640132904), ('printf', 0.6419030427932739), ('malloc', 0.6326224207878113), ('stl', 0.6298226118087769), ('gcc', 0.6296911835670471), ('standard', 0.6215011477470398), ('stdstring', 0.6205230951309204)] \n",
      "\n",
      "\n",
      "Most similar words to: c++ \n",
      " [('pointers', 0.7485740184783936), ('c', 0.7438018321990967), ('boost', 0.7069777846336365), ('gcc', 0.704820454120636), ('malloc', 0.7042771577835083), ('stl', 0.7031874656677246), ('macro', 0.6916307806968689), ('unmanaged', 0.6779928207397461), ('printf', 0.6776496767997742), ('structs', 0.675813615322113)] \n",
      "\n",
      "\n",
      "Most similar words to: cuda \n",
      " [('optimization', 0.9562216401100159), ('fstream', 0.9371057152748108), ('eat', 0.9365462064743042), ('questions', 0.9358989000320435), ('abnormally', 0.9354915618896484), ('arm', 0.9347497224807739), ('loadlibrary', 0.9347289204597473), ('fpic', 0.9346720576286316), ('potential', 0.9334027767181396), ('msvc', 0.9333370327949524)] \n",
      "\n",
      "\n",
      "Most similar words to: gpu \n",
      " [('pro', 0.9695045948028564), ('minimal', 0.9692796468734741), ('rubygems', 0.9684691429138184), ('beginners', 0.9681559801101685), ('complains', 0.9681438207626343), ('36', 0.9678215980529785), ('461', 0.9663509130477905), ('mercurial', 0.9654421806335449), ('platforms', 0.9653660655021667), ('higher', 0.964167058467865)] \n",
      "\n",
      "\n",
      "Most similar words to: cpu \n",
      " [('high', 0.9243365526199341), ('jvm', 0.9148995280265808), ('much', 0.9072808623313904), ('slower', 0.9062235355377197), ('windows7', 0.9041781425476074), ('107', 0.9013205170631409), ('32bit', 0.900380551815033), ('intel', 0.8982457518577576), ('lion', 0.8965007066726685), ('corruption', 0.895294725894928)] \n",
      "\n",
      "\n"
     ]
    }
   ],
   "source": [
    "words = ['python', 'java', 'javascript', 'c', 'c++', 'cuda', 'gpu', 'cpu']\n",
    "\n",
    "for word in words:\n",
    "    print(f'Most similar words to: {word}','\\n', model.wv.most_similar(word), '\\n\\n')"
   ]
  },
  {
   "cell_type": "code",
   "execution_count": 44,
   "id": "06298765",
   "metadata": {},
   "outputs": [],
   "source": [
    "def display_pca_scatterplot(model, words=None, sample=0):\n",
    "    if words == None:\n",
    "        if sample > 0:\n",
    "            words = np.random.choice(list(model.wv.index_to_key), sample)\n",
    "        else:\n",
    "            words = [ word for word in model.wv.index_to_key]\n",
    "        \n",
    "    word_vectors = np.array([model.wv[w] for w in words])\n",
    "\n",
    "    twodim = PCA().fit_transform(word_vectors)[:,:2]\n",
    "    \n",
    "    plt.figure(figsize=(6,6))\n",
    "    plt.scatter(twodim[:,0], twodim[:,1], edgecolors='k', c='r')\n",
    "    for word, (x,y) in zip(words, twodim):\n",
    "        plt.text(x+0.05, y+0.05, word)"
   ]
  },
  {
   "cell_type": "code",
   "execution_count": 46,
   "id": "b6b39bc5",
   "metadata": {},
   "outputs": [
    {
     "data": {
      "image/png": "[encoded data removed]",
      "text/plain": [
       "<Figure size 432x432 with 1 Axes>"
      ]
     },
     "metadata": {
      "needs_background": "light"
     },
     "output_type": "display_data"
    }
   ],
   "source": [
    "display_pca_scatterplot(model, ['python', 'java', 'javascript', 'c', 'c++', 'cuda', 'gpu', 'cpu'])"
   ]
  }
 ],
 "metadata": {
  "environment": {
   "name": "pytorch-gpu.1-8.m69",
   "type": "gcloud",
   "uri": "gcr.io/deeplearning-platform-release/pytorch-gpu.1-8:m69"
  },
  "kernelspec": {
   "display_name": "Python 3",
   "language": "python",
   "name": "python3"
  },
  "language_info": {
   "codemirror_mode": {
    "name": "ipython",
    "version": 3
   },
   "file_extension": ".py",
   "mimetype": "text/x-python",
   "name": "python",
   "nbconvert_exporter": "python",
   "pygments_lexer": "ipython3",
   "version": "3.7.10"
  }
 },
 "nbformat": 4,
 "nbformat_minor": 5
}
